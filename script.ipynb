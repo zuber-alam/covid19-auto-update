import requests
import schedule
import time

def job():
    countriesUrl = 'https://corona.lmao.ninja/countries'
    stateUrl = 'https://covidtracking.com/api/states'
    totalDataRes = 'https://corona.lmao.ninja/all'
#     Getting total, state and countries data from following urls
    countriesDataRes = requests.get(countriesUrl)
    totalDataRes = requests.get(totalUrl)
    stateDataRes = requests.get(stateUrl)
#     Parsing data in json format
    countriesData = countriesDataRes.json()
    totalData = totalDataRes.json()
    stateData = stateDataRes.json()
    
    listOfCountries = []
    listOfStates = []
    total = []
    
    if countriesData:
        for res in countriesData:
            listOfCountries.append({'name':res['country'] , 'iso3':res['countryInfo']['iso3'] , 'cases': res['cases'], 'todayCases': res['todayCases'], 'deaths': res['deaths'], 'active': res['active']})
        PostReq = requests.post('localhost:3006/coutries-data',data=listOfCountries)
        
        total.append({'cases': res['cases'], 'todayCases': res['todayCases'], 'deaths': res['deaths'], 'criticalCases': res['criticalCases'], 'test': res['tests'], 'testPerMn': res['testsPerOneMillion'], 'todayDeath': res['todayDeath'], 'recovered': res['recovered']})
        PostReq = requests.post('localhost:3006/total-data',data=totals)
        
    if stateData:
        for res in countriesData:
            listOfStates.append({'name':res['state'], 'cases': res['positive'], 'deaths': res['death']})
        PostReq = requests.post('localhost:3006/states-data',data=listOfStates)

# Calling every hour
schedule.every(60).minutes.do(job)

# Infinite loop(On first call need to wait 60 minutes)
while True:
    schedule.run_pending()
    time.sleep(1)